{
  "nbformat": 4,
  "nbformat_minor": 0,
  "metadata": {
    "colab": {
      "provenance": [],
      "mount_file_id": "1HfCjfdJW4qjTnPtfZH8vBdsU5S0rfwe6",
      "authorship_tag": "ABX9TyP+WveGwaSbVRwKeY7HKxoF",
      "include_colab_link": true
    },
    "kernelspec": {
      "name": "python3",
      "display_name": "Python 3"
    },
    "language_info": {
      "name": "python"
    }
  },
  "cells": [
    {
      "cell_type": "markdown",
      "metadata": {
        "id": "view-in-github",
        "colab_type": "text"
      },
      "source": [
        "<a href=\"https://colab.research.google.com/github/thiagogcarmo/Python_automate_search/blob/main/pesquisa_vers%C3%A3o_12_REGEX_whatsapp%20.ipynb\" target=\"_parent\"><img src=\"https://colab.research.google.com/assets/colab-badge.svg\" alt=\"Open In Colab\"/></a>"
      ]
    },
    {
      "cell_type": "markdown",
      "source": [
        "**Versão com MPRJ**\n",
        "- observar se esta certo\n",
        "- retirado time-sleep\n",
        "- sugestão de informão para o caso de não encontrar"
      ],
      "metadata": {
        "id": "sRVgXW_2DLq0"
      }
    },
    {
      "cell_type": "code",
      "source": [
        "import openpyxl\n",
        "import re\n",
        "import datetime\n",
        "\n",
        "abas_encontradas = []\n",
        "\n",
        "def converter_celula_para_string(celula):\n",
        "    \"\"\"Converte o conteúdo de uma célula para string.\"\"\"\n",
        "    if isinstance(celula, datetime.datetime):\n",
        "        return celula.strftime(\"%Y-%m-%d\")\n",
        "    elif celula is None:\n",
        "        return \"\"\n",
        "    else:\n",
        "        return str(celula)\n",
        "\n",
        "def extrair_mprj(concatenated_row):\n",
        "    \"\"\"Extrai o MPRJ do conteúdo da linha concatenada usando uma expressão regular.\"\"\"\n",
        "    mprj_pattern = re.compile(r'\\d{4}\\.?\\d{8}')\n",
        "    match = mprj_pattern.search(concatenated_row)\n",
        "    return match.group(0) if match else \"Não encontrado\"\n",
        "\n",
        "def pesquisar_em_aba(sheet, pattern):\n",
        "    \"\"\"Pesquisa a string em uma aba e retorna os resultados.\"\"\"\n",
        "    resultados = []\n",
        "    contador = 0\n",
        "\n",
        "\n",
        "    for row_index, row in enumerate(sheet.iter_rows(values_only=True), start=1):\n",
        "        row_contents = [converter_celula_para_string(col) for col in row]\n",
        "        concatenated_row = ' '.join(row_contents)\n",
        "\n",
        "        if pattern.search(concatenated_row):\n",
        "            contador += 1\n",
        "            mprj = extrair_mprj(concatenated_row)\n",
        "            resultados.append({\n",
        "                'sheet': sheet.title,\n",
        "                'line': row_index,\n",
        "                'mprj': mprj,\n",
        "                'excerpt': concatenated_row[:50],\n",
        "                'full_row': row_contents,\n",
        "            })\n",
        "            if sheet not in abas_encontradas:\n",
        "                abas_encontradas.append(sheet)\n",
        "\n",
        "            print(f\"String encontrada na aba '{sheet.title}', linha {row_index}: {' | '.join(row_contents)}\")\n",
        "            #abas_encontradas.append(sheet)\n",
        "\n",
        "    return resultados, contador\n",
        "\n",
        "def fazer_pesquisa():\n",
        "    filename = '/content/drive/MyDrive/01. DEV - MP - PESQUISA/Planilhas de pesquisa PJs de Infância.xlsx'\n",
        "\n",
        "    try:\n",
        "        while True:\n",
        "            workbook = openpyxl.load_workbook(filename)\n",
        "            sheet_names = workbook.sheetnames\n",
        "            search_string = input('Digite o nome a ser pesquisado: ')\n",
        "            pattern = re.compile(search_string, re.IGNORECASE)\n",
        "\n",
        "            resultados_totais = []\n",
        "            contador_total = 0\n",
        "\n",
        "            for sheet_index, sheet_name in enumerate(sheet_names):\n",
        "                sheet = workbook[sheet_name]\n",
        "                print(f\"Pesquisando na aba \\033[1m{sheet_index + 1}\\033[0m: \\033[1m{sheet_name}\\033[0m\")\n",
        "\n",
        "                resultados, contador = pesquisar_em_aba(sheet, pattern)\n",
        "                resultados_totais.extend(resultados)\n",
        "                contador_total += contador\n",
        "\n",
        "            if resultados_totais:\n",
        "                print(\"\\nResultados encontrados:\")\n",
        "                for resultado in resultados_totais:\n",
        "                    print(f\"**Aba: \\033[1m{resultado['sheet']}\\033[0m, Linha: {resultado['line']}, MPRJ: {resultado['mprj']}, Trecho: {resultado['excerpt']}\")\n",
        "                    print(f\"Linha completa: {' | '.join(resultado['full_row'])}\")\n",
        "            else:\n",
        "                print(\"Nenhum resultado encontrado.\")\n",
        "                print(\"\\nSUGESTÃO DE INFORMAÇÃO: Informo que não foi localizado processo nem procedimentos/expedientes em nome das crianças/adolescentes \"\n",
        "                      f\"{search_string.upper()} no âmbito da atribuição das Promotorias de Infância e Juventude Volta Redonda.\\nNesta, abro vista dos autos.\")\n",
        "\n",
        "\n",
        "\n",
        "            print(f\"\\n{'*' * 40}\\nQuantidade de ocorrências: {contador_total} do termo {search_string}\"'\\n')\n",
        "\n",
        "            print(str(abas_encontradas))\n",
        "\n",
        "            workbook.close()\n",
        "\n",
        "            resposta = input(\"Deseja pesquisar novamente? (SIM/NÃO): \").strip().upper()\n",
        "            if resposta == 'NÃO':\n",
        "                print(\"Encerrando a rotina de pesquisa.\")\n",
        "                break\n",
        "            elif resposta != 'SIM':\n",
        "                print(\"Resposta inválida. Encerrando a rotina de pesquisa.\")\n",
        "                break\n",
        "\n",
        "    except Exception as e:\n",
        "        print(f\"Ocorreu um erro: {e}\")\n",
        "\n",
        "fazer_pesquisa()\n",
        "\n"
      ],
      "metadata": {
        "colab": {
          "base_uri": "https://localhost:8080/",
          "height": 914
        },
        "id": "LQfWvRm6DRcm",
        "outputId": "383d4e75-0e83-4e96-bb26-e99bc42a57f2"
      },
      "execution_count": 2,
      "outputs": [
        {
          "output_type": "stream",
          "name": "stdout",
          "text": [
            "Digite o nome a ser pesquisado: alana\n",
            "Pesquisando na aba \u001b[1m1\u001b[0m: \u001b[1mPEÇAS INFORMAÇÃO - DISTR\u001b[0m\n",
            "Pesquisando na aba \u001b[1m2\u001b[0m: \u001b[1mPEÇAS INFORMAÇÃO - PREV & ATRIB\u001b[0m\n",
            "String encontrada na aba 'PEÇAS INFORMAÇÃO - PREV & ATRIB', linha 2141: S/N | CÓPIA DO PROCESSO 0010467-10.2015.8.19.0066 | REPRESENTAÇÃO ADMINISTRATIVA - ADPF - LUAN CESAR GOMES DA SILVA, LEDSON FERREIRA DA SILVA, KAIQUE FERREIRA DE SOUZA e ALANA REGINA DA SILVA SOUZA | 2017-11-10 | DRA. MARIANA | AJUIZADA EM 10/11/2017. |  | \n",
            "String encontrada na aba 'PEÇAS INFORMAÇÃO - PREV & ATRIB', linha 2169: 1895/2017 | SMAC | ENCAMINHA RELATÓRIO FAM ACOLHEDORA REF AS CRIANÇAS KAIQUE FERREIRA DE SOUZA e ALANA REGINA DA SILVA SOUZA - PROC 5405-86/2015 | 2017-12-05 | DRA MARIANA  | JUNTADO AO PROCESSO QUE ESTAVA NA VISTA MP NESTA DATA |  | \n",
            "String encontrada na aba 'PEÇAS INFORMAÇÃO - PREV & ATRIB', linha 2237: 0233/2018 | SMAC | ENCAMINHA RELATÓRIO SOBRE LEDSON FERREIRA, ALANA REGINA DA SILVA, ROBERT LUIZ DA SILVA BARBOSA. | 2018-02-21 | DRA. MARIANA | JUNTADO AO PROCESSO 0010467-10.2015.8.19.0066 |  | \n",
            "String encontrada na aba 'PEÇAS INFORMAÇÃO - PREV & ATRIB', linha 2752: S/Nº | PEÇAS DE INFORMAÇÃO | CÓPIAS DO PROCESSO 0014412-63.2019.8.19.0066 PARA INSTRUIR ACP EM FACE DE ALANA APARECIDA MACHADO DE CARVALHO LISBOA E RODRIGO LISBOA PENEDA, ADOTANTES DA CRIANÇA MIGUEL DA CONCEIÇÃO LISBOA PENEDA. | 2019-08-01 | DRA. SYLVIA (1ª) | AJUIZADA ACP EM 01/08/2019. |  | \n",
            "Pesquisando na aba \u001b[1m3\u001b[0m: \u001b[1mOUVIDORIA - DISTR\u001b[0m\n",
            "Pesquisando na aba \u001b[1m4\u001b[0m: \u001b[1mOUVIDORIA - PREV & ATRIB\u001b[0m\n",
            "Pesquisando na aba \u001b[1m5\u001b[0m: \u001b[1mPA - 2ª PJIJ\u001b[0m\n",
            "Pesquisando na aba \u001b[1m6\u001b[0m: \u001b[1mPP & IC - 2ª PJIJ\u001b[0m\n",
            "Pesquisando na aba \u001b[1m7\u001b[0m: \u001b[1mPlanilhas PA's 1.ª PJIJUVRE\u001b[0m\n",
            "String encontrada na aba 'Planilhas PA's 1.ª PJIJUVRE', linha 240: 48/05 | MPRJ 2005.00067415 |  | 2005-08-16 | Alana Bárbara Rocha Pimentel – 06 anos\n",
            "Necessidade de realizar um exame de ressonância magnética | ARQUIVADO EM 13/01/17. |  | \n",
            "\n",
            "Resultados encontrados:\n",
            "**Aba: \u001b[1mPEÇAS INFORMAÇÃO - PREV & ATRIB\u001b[0m, Linha: 2141, MPRJ: Não encontrado, Trecho: S/N CÓPIA DO PROCESSO 0010467-10.2015.8.19.0066 RE\n",
            "Linha completa: S/N | CÓPIA DO PROCESSO 0010467-10.2015.8.19.0066 | REPRESENTAÇÃO ADMINISTRATIVA - ADPF - LUAN CESAR GOMES DA SILVA, LEDSON FERREIRA DA SILVA, KAIQUE FERREIRA DE SOUZA e ALANA REGINA DA SILVA SOUZA | 2017-11-10 | DRA. MARIANA | AJUIZADA EM 10/11/2017. |  | \n",
            "**Aba: \u001b[1mPEÇAS INFORMAÇÃO - PREV & ATRIB\u001b[0m, Linha: 2169, MPRJ: Não encontrado, Trecho: 1895/2017 SMAC ENCAMINHA RELATÓRIO FAM ACOLHEDORA \n",
            "Linha completa: 1895/2017 | SMAC | ENCAMINHA RELATÓRIO FAM ACOLHEDORA REF AS CRIANÇAS KAIQUE FERREIRA DE SOUZA e ALANA REGINA DA SILVA SOUZA - PROC 5405-86/2015 | 2017-12-05 | DRA MARIANA  | JUNTADO AO PROCESSO QUE ESTAVA NA VISTA MP NESTA DATA |  | \n",
            "**Aba: \u001b[1mPEÇAS INFORMAÇÃO - PREV & ATRIB\u001b[0m, Linha: 2237, MPRJ: Não encontrado, Trecho: 0233/2018 SMAC ENCAMINHA RELATÓRIO SOBRE LEDSON FE\n",
            "Linha completa: 0233/2018 | SMAC | ENCAMINHA RELATÓRIO SOBRE LEDSON FERREIRA, ALANA REGINA DA SILVA, ROBERT LUIZ DA SILVA BARBOSA. | 2018-02-21 | DRA. MARIANA | JUNTADO AO PROCESSO 0010467-10.2015.8.19.0066 |  | \n",
            "**Aba: \u001b[1mPEÇAS INFORMAÇÃO - PREV & ATRIB\u001b[0m, Linha: 2752, MPRJ: Não encontrado, Trecho: S/Nº PEÇAS DE INFORMAÇÃO CÓPIAS DO PROCESSO 001441\n",
            "Linha completa: S/Nº | PEÇAS DE INFORMAÇÃO | CÓPIAS DO PROCESSO 0014412-63.2019.8.19.0066 PARA INSTRUIR ACP EM FACE DE ALANA APARECIDA MACHADO DE CARVALHO LISBOA E RODRIGO LISBOA PENEDA, ADOTANTES DA CRIANÇA MIGUEL DA CONCEIÇÃO LISBOA PENEDA. | 2019-08-01 | DRA. SYLVIA (1ª) | AJUIZADA ACP EM 01/08/2019. |  | \n",
            "**Aba: \u001b[1mPlanilhas PA's 1.ª PJIJUVRE\u001b[0m, Linha: 240, MPRJ: 2005.00067415, Trecho: 48/05 MPRJ 2005.00067415  2005-08-16 Alana Bárbara\n",
            "Linha completa: 48/05 | MPRJ 2005.00067415 |  | 2005-08-16 | Alana Bárbara Rocha Pimentel – 06 anos\n",
            "Necessidade de realizar um exame de ressonância magnética | ARQUIVADO EM 13/01/17. |  | \n",
            "\n",
            "****************************************\n",
            "Quantidade de ocorrências: 5 do termo alana\n",
            "\n",
            "[<Worksheet \"PEÇAS INFORMAÇÃO - PREV & ATRIB\">, <Worksheet \"Planilhas PA's 1.ª PJIJUVRE\">]\n"
          ]
        },
        {
          "output_type": "error",
          "ename": "KeyboardInterrupt",
          "evalue": "Interrupted by user",
          "traceback": [
            "\u001b[0;31m---------------------------------------------------------------------------\u001b[0m",
            "\u001b[0;31mKeyboardInterrupt\u001b[0m                         Traceback (most recent call last)",
            "\u001b[0;32m<ipython-input-2-0bf6963f0492>\u001b[0m in \u001b[0;36m<cell line: 100>\u001b[0;34m()\u001b[0m\n\u001b[1;32m     98\u001b[0m         \u001b[0mprint\u001b[0m\u001b[0;34m(\u001b[0m\u001b[0;34mf\"Ocorreu um erro: {e}\"\u001b[0m\u001b[0;34m)\u001b[0m\u001b[0;34m\u001b[0m\u001b[0;34m\u001b[0m\u001b[0m\n\u001b[1;32m     99\u001b[0m \u001b[0;34m\u001b[0m\u001b[0m\n\u001b[0;32m--> 100\u001b[0;31m \u001b[0mfazer_pesquisa\u001b[0m\u001b[0;34m(\u001b[0m\u001b[0;34m)\u001b[0m\u001b[0;34m\u001b[0m\u001b[0;34m\u001b[0m\u001b[0m\n\u001b[0m\u001b[1;32m    101\u001b[0m \u001b[0;34m\u001b[0m\u001b[0m\n",
            "\u001b[0;32m<ipython-input-2-0bf6963f0492>\u001b[0m in \u001b[0;36mfazer_pesquisa\u001b[0;34m()\u001b[0m\n\u001b[1;32m     87\u001b[0m             \u001b[0mworkbook\u001b[0m\u001b[0;34m.\u001b[0m\u001b[0mclose\u001b[0m\u001b[0;34m(\u001b[0m\u001b[0;34m)\u001b[0m\u001b[0;34m\u001b[0m\u001b[0;34m\u001b[0m\u001b[0m\n\u001b[1;32m     88\u001b[0m \u001b[0;34m\u001b[0m\u001b[0m\n\u001b[0;32m---> 89\u001b[0;31m             \u001b[0mresposta\u001b[0m \u001b[0;34m=\u001b[0m \u001b[0minput\u001b[0m\u001b[0;34m(\u001b[0m\u001b[0;34m\"Deseja pesquisar novamente? (SIM/NÃO): \"\u001b[0m\u001b[0;34m)\u001b[0m\u001b[0;34m.\u001b[0m\u001b[0mstrip\u001b[0m\u001b[0;34m(\u001b[0m\u001b[0;34m)\u001b[0m\u001b[0;34m.\u001b[0m\u001b[0mupper\u001b[0m\u001b[0;34m(\u001b[0m\u001b[0;34m)\u001b[0m\u001b[0;34m\u001b[0m\u001b[0;34m\u001b[0m\u001b[0m\n\u001b[0m\u001b[1;32m     90\u001b[0m             \u001b[0;32mif\u001b[0m \u001b[0mresposta\u001b[0m \u001b[0;34m==\u001b[0m \u001b[0;34m'NÃO'\u001b[0m\u001b[0;34m:\u001b[0m\u001b[0;34m\u001b[0m\u001b[0;34m\u001b[0m\u001b[0m\n\u001b[1;32m     91\u001b[0m                 \u001b[0mprint\u001b[0m\u001b[0;34m(\u001b[0m\u001b[0;34m\"Encerrando a rotina de pesquisa.\"\u001b[0m\u001b[0;34m)\u001b[0m\u001b[0;34m\u001b[0m\u001b[0;34m\u001b[0m\u001b[0m\n",
            "\u001b[0;32m/usr/local/lib/python3.10/dist-packages/ipykernel/kernelbase.py\u001b[0m in \u001b[0;36mraw_input\u001b[0;34m(self, prompt)\u001b[0m\n\u001b[1;32m    849\u001b[0m                 \u001b[0;34m\"raw_input was called, but this frontend does not support input requests.\"\u001b[0m\u001b[0;34m\u001b[0m\u001b[0;34m\u001b[0m\u001b[0m\n\u001b[1;32m    850\u001b[0m             )\n\u001b[0;32m--> 851\u001b[0;31m         return self._input_request(str(prompt),\n\u001b[0m\u001b[1;32m    852\u001b[0m             \u001b[0mself\u001b[0m\u001b[0;34m.\u001b[0m\u001b[0m_parent_ident\u001b[0m\u001b[0;34m,\u001b[0m\u001b[0;34m\u001b[0m\u001b[0;34m\u001b[0m\u001b[0m\n\u001b[1;32m    853\u001b[0m             \u001b[0mself\u001b[0m\u001b[0;34m.\u001b[0m\u001b[0m_parent_header\u001b[0m\u001b[0;34m,\u001b[0m\u001b[0;34m\u001b[0m\u001b[0;34m\u001b[0m\u001b[0m\n",
            "\u001b[0;32m/usr/local/lib/python3.10/dist-packages/ipykernel/kernelbase.py\u001b[0m in \u001b[0;36m_input_request\u001b[0;34m(self, prompt, ident, parent, password)\u001b[0m\n\u001b[1;32m    893\u001b[0m             \u001b[0;32mexcept\u001b[0m \u001b[0mKeyboardInterrupt\u001b[0m\u001b[0;34m:\u001b[0m\u001b[0;34m\u001b[0m\u001b[0;34m\u001b[0m\u001b[0m\n\u001b[1;32m    894\u001b[0m                 \u001b[0;31m# re-raise KeyboardInterrupt, to truncate traceback\u001b[0m\u001b[0;34m\u001b[0m\u001b[0;34m\u001b[0m\u001b[0m\n\u001b[0;32m--> 895\u001b[0;31m                 \u001b[0;32mraise\u001b[0m \u001b[0mKeyboardInterrupt\u001b[0m\u001b[0;34m(\u001b[0m\u001b[0;34m\"Interrupted by user\"\u001b[0m\u001b[0;34m)\u001b[0m \u001b[0;32mfrom\u001b[0m \u001b[0;32mNone\u001b[0m\u001b[0;34m\u001b[0m\u001b[0;34m\u001b[0m\u001b[0m\n\u001b[0m\u001b[1;32m    896\u001b[0m             \u001b[0;32mexcept\u001b[0m \u001b[0mException\u001b[0m \u001b[0;32mas\u001b[0m \u001b[0me\u001b[0m\u001b[0;34m:\u001b[0m\u001b[0;34m\u001b[0m\u001b[0;34m\u001b[0m\u001b[0m\n\u001b[1;32m    897\u001b[0m                 \u001b[0mself\u001b[0m\u001b[0;34m.\u001b[0m\u001b[0mlog\u001b[0m\u001b[0;34m.\u001b[0m\u001b[0mwarning\u001b[0m\u001b[0;34m(\u001b[0m\u001b[0;34m\"Invalid Message:\"\u001b[0m\u001b[0;34m,\u001b[0m \u001b[0mexc_info\u001b[0m\u001b[0;34m=\u001b[0m\u001b[0;32mTrue\u001b[0m\u001b[0;34m)\u001b[0m\u001b[0;34m\u001b[0m\u001b[0;34m\u001b[0m\u001b[0m\n",
            "\u001b[0;31mKeyboardInterrupt\u001b[0m: Interrupted by user"
          ]
        }
      ]
    },
    {
      "cell_type": "markdown",
      "source": [
        "# aprimoramento para visualização no whatsapp\n",
        "https://whapi.cloud/pt/whatsapp-text-formatter\n",
        "\n",
        "Texto formatado:\n",
        "\n",
        "Check out the example of *bold text*, also text could be ~strikethrough~, or you can make it _italic_\n"
      ],
      "metadata": {
        "id": "A5riBNthsXyP"
      }
    },
    {
      "cell_type": "code",
      "source": [],
      "metadata": {
        "id": "EKSD97UqDSXl"
      },
      "execution_count": null,
      "outputs": []
    }
  ]
}